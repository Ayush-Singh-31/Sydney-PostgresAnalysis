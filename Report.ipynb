{
    "cells": [
        {
            "cell_type": "markdown",
            "metadata": {},
            "source": [
                "# DATA2001 : Assignment\n",
                "\n",
                "**Author:** Lab10 - Group 08\n",
                "\n",
                "## Task 01: Cleaning and Importing Data into a PostgreSQL Server\n",
                "\n",
                "The datasets provided include SA2 Regions, Businesses, Stops, Polls, Schools, Population, and Income. SA2 Digital Boundaries represent geospatial data for the whole of Australia, but our focus is on the Greater Sydney Area. Therefore, we're only considering a portion of it. Businesses, Income, Polls, and Population are provided as CSV files, while Stops are in TXT format. Schools are provided as geospatial data but are limited to the Greater Sydney Area, requiring no additional processing, similar to SA2 Digital Boundaries.\n",
                "\n",
                "### Dataset Description\n",
                "\n",
                "Describing a dataset is crucial for proper analysis. It helps in identifying outliers, patterns, and other relevant information. We've processed our entire data cleaning with a Python script written in `DataCleaning.py`.\n",
                "\n",
                "First we begin by importing all the necessary modules required for this porject. Since we are basically dealing with dataframes and geospatial data, the type of moudle used in pre and post porcessiing is really crucial."
            ]
        },
        {
            "cell_type": "code",
            "execution_count": null,
            "metadata": {},
            "outputs": [],
            "source": [
                "import os\n",
                "import pandas as pd\n",
                "import matplotlib.pyplot as plt\n",
                "import seaborn as sns\n",
                "import geopandas as gpd\n",
                "from shapely.geometry import MultiPolygon\n",
                "from geoalchemy2 import WKTElement"
            ]
        },
        {
            "cell_type": "markdown",
            "metadata": {},
            "source": [
                "After the imports are done, we firstly define a basic function using the `PANDAS Module` that can read a CSV file and return it as an object we can further process."
            ]
        },
        {
            "cell_type": "code",
            "execution_count": null,
            "metadata": {},
            "outputs": [],
            "source": [
                "def readCSV(csv):\n",
                "    return pd.read_csv(csv)"
            ]
        },
        {
            "cell_type": "markdown",
            "metadata": {},
            "source": [
                "We similiary need a function to read and return the Shape files for the geospatial data as well. We use the `GEOPANDAS Module` for this particular function."
            ]
        },
        {
            "cell_type": "code",
            "execution_count": null,
            "metadata": {},
            "outputs": [],
            "source": [
                "def readGeospatial(path):\n",
                "    return gpd.read_file(path)"
            ]
        }
    ],
    "metadata": {
        "language_info": {
            "name": "python"
        }
    },
    "nbformat": 4,
    "nbformat_minor": 2
}
