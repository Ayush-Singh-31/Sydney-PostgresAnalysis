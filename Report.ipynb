{
    "cells": [
        {
            "attachments": {},
            "cell_type": "markdown",
            "metadata": {},
            "source": [
                "# DATA2001 : Assignment\n",
                "\n",
                "**Author:** Lab10 - Group 08"
            ]
        },
        {
            "attachments": {},
            "cell_type": "markdown",
            "metadata": {},
            "source": [
                "## Importing Libraries\n"
            ]
        },
        {
            "cell_type": "code",
            "execution_count": 37,
            "metadata": {},
            "outputs": [],
            "source": [
                "## Importing required libraries\n",
                "import os\n",
                "import numpy as np\n",
                "import seaborn as sns\n",
                "import pandas as pd\n",
                "import geopandas as gpd\n",
                "from shapely.geometry import Point, Polygon, MultiPolygon\n",
                "from geoalchemy2 import Geometry, WKTElement\n",
                "import matplotlib.pyplot as plt\n",
                "from sqlalchemy import create_engine, text\n",
                "import psycopg2\n",
                "import psycopg2.extras\n",
                "import json"
            ]
        },
        {
            "attachments": {},
            "cell_type": "markdown",
            "metadata": {},
            "source": [
                "## Creating SQL Connection"
            ]
        },
        {
            "cell_type": "code",
            "execution_count": 38,
            "metadata": {},
            "outputs": [],
            "source": [
                "## Connecting to postgreSQL server (pgAdmin)\n",
                "def pgconnect(credential_filepath, db_schema=\"public\"):\n",
                "    with open(credential_filepath) as f:\n",
                "        db_conn_dict = json.load(f)\n",
                "        host       = db_conn_dict['host']\n",
                "        db_user    = db_conn_dict['user']\n",
                "        db_pw      = db_conn_dict['password']\n",
                "        default_db = db_conn_dict['user']\n",
                "        port       = db_conn_dict['port']\n",
                "        try:\n",
                "            db = create_engine(f'postgresql+psycopg2://{db_user}:{db_pw}@{host}:{port}/{default_db}', echo=False)\n",
                "            conn = db.connect()\n",
                "            print('Connected successfully.')\n",
                "        except Exception as e:\n",
                "            print(\"Unable to connect to the database.\")\n",
                "            print(e)\n",
                "            db, conn = None, None\n",
                "        return db,conn\n",
                "\n",
                "def query(conn, sqlcmd, args=None, df=True):\n",
                "    result = pd.DataFrame() if df else None\n",
                "    try:\n",
                "        if df:\n",
                "            result = pd.read_sql_query(sqlcmd, conn, params=args)\n",
                "        else:\n",
                "            result = conn.execute(text(sqlcmd), args).fetchall()\n",
                "            result = result[0] if len(result) == 1 else result\n",
                "    except Exception as e:\n",
                "        notE = \"This result object does not return rows. It has been closed automatically.\"\n",
                "        if str(e) != notE: print(e)\n",
                "    return result"
            ]
        },
        {
            "cell_type": "code",
            "execution_count": 39,
            "metadata": {},
            "outputs": [],
            "source": [
                "## Converting polygon objects to multipolygon objects\n",
                "def create_wkt_element(geom, srid):\n",
                "    if geom.geom_type == 'Polygon':\n",
                "        geom = MultiPolygon([geom])\n",
                "    elif geom.geom_type == 'Point':\n",
                "        geom = Point([xy[0:2] for xy in list(geom.coords)])\n",
                "    return WKTElement(geom.wkt, srid)\n"
            ]
        },
        {
            "cell_type": "code",
            "execution_count": 40,
            "metadata": {},
            "outputs": [
                {
                    "name": "stdout",
                    "output_type": "stream",
                    "text": [
                        "Connected successfully.\n"
                    ]
                }
            ],
            "source": [
                "credentials = \"Credentials.json\"\n",
                "currentDir = os.path.dirname(\"DATA2001Assignment\")\n",
                "db, conn = pgconnect(credentials)"
            ]
        },
        {
            "attachments": {},
            "cell_type": "markdown",
            "metadata": {},
            "source": [
                "## Reading and Cleaning Data\n"
            ]
        },
        {
            "attachments": {},
            "cell_type": "markdown",
            "metadata": {},
            "source": [
                "### SA2 Boundaries\n"
            ]
        },
        {
            "cell_type": "code",
            "execution_count": 41,
            "metadata": {},
            "outputs": [
                {
                    "name": "stdout",
                    "output_type": "stream",
                    "text": [
                        "<class 'pandas.core.frame.DataFrame'>\n",
                        "Index: 373 entries, 28 to 641\n",
                        "Data columns (total 4 columns):\n",
                        " #   Column      Non-Null Count  Dtype  \n",
                        "---  ------      --------------  -----  \n",
                        " 0   sa2_code21  373 non-null    object \n",
                        " 1   sa2_name21  373 non-null    object \n",
                        " 2   AREASQKM21  373 non-null    float64\n",
                        " 3   geom        373 non-null    object \n",
                        "dtypes: float64(1), object(3)\n",
                        "memory usage: 14.6+ KB\n",
                        "None\n",
                        "\n",
                        "   sa2_code21                   sa2_name21  AREASQKM21  \\\n",
                        "0   102011028     Avoca Beach - Copacabana      6.4376   \n",
                        "1   102011029  Box Head - MacMasters Beach     32.0802   \n",
                        "2   102011030              Calga - Kulnura    767.9512   \n",
                        "3   102011031          Erina - Green Point     33.7934   \n",
                        "4   102011032        Gosford - Springfield     16.9123   \n",
                        "\n",
                        "                                                geom  \n",
                        "0  0106000020E6100000010000000103000000010000005E...  \n",
                        "1  0106000020E61000000100000001030000000100000010...  \n",
                        "2  0106000020E61000000200000001030000000100000085...  \n",
                        "3  0106000020E61000000100000001030000000100000041...  \n",
                        "4  0106000020E6100000010000000103000000010000007E...  \n"
                    ]
                }
            ],
            "source": [
                "# Reading the file from the provided location\n",
                "SA2DigitalBoundariesPath = os.path.join(currentDir, \"Data\", \"SA2 Digital Boundaries\", \"SA2_2021_AUST_GDA2020.shp\")\n",
                "SA2DigitalBoundaries = gpd.read_file(SA2DigitalBoundariesPath)\n",
                "\n",
                "# Drop rows with null geometry and filter for Greater Sydney\n",
                "SA2DigitalBoundaries.dropna(subset=['geometry'], inplace=True)\n",
                "SA2DigitalBoundaries = SA2DigitalBoundaries[SA2DigitalBoundaries['GCC_NAME21'] == 'Greater Sydney'].copy()\n",
                "\n",
                "# Convert geometry to WKT format and drop original geometry column\n",
                "SA2DigitalBoundaries['geom'] = SA2DigitalBoundaries['geometry'].apply(lambda x: create_wkt_element(geom=x, srid=4326))\n",
                "SA2DigitalBoundaries = SA2DigitalBoundaries.drop(columns=\"geometry\")\n",
                "\n",
                "# Drop unnecessary columns and remove duplicates\n",
                "SA2DigitalBoundaries.drop(columns=['LOCI_URI21', 'CHG_FLAG21', 'CHG_LBL21', 'SA3_CODE21', 'SA3_NAME21', 'SA4_CODE21', 'SA4_NAME21', \"GCC_CODE21\", \"GCC_NAME21\", \"STE_CODE21\", \"STE_NAME21\", \"AUS_CODE21\", \"AUS_NAME21\"], inplace=True)\n",
                "SA2DigitalBoundaries.drop_duplicates(inplace=True)\n",
                "SA2DigitalBoundaries.dropna(inplace=True)\n",
                "\n",
                "# Rename columns to match the database schema\n",
                "SA2DigitalBoundaries.rename(columns={\"SA2_CODE21\": \"sa2_code21\", \"SA2_NAME21\": \"sa2_name21\"}, inplace=True)\n",
                "\n",
                "# Define and execute schema creation for SA2 table\n",
                "schema = \"\"\"\n",
                "DROP TABLE IF EXISTS SA2;\n",
                "CREATE TABLE SA2 (\n",
                "    \"sa2_code21\" INTEGER,\n",
                "    \"sa2_name21\" VARCHAR(255),\n",
                "    \"AREASQKM21\" FLOAT,\n",
                "    \"geom\" GEOMETRY(MULTIPOLYGON, 4326)\n",
                ");\n",
                "\"\"\"\n",
                "try:\n",
                "    conn.execute(text(schema))\n",
                "except Exception as e:\n",
                "    print(\"Error executing SQL statement:\", e)\n",
                "\n",
                "# Insert data into the SA2 table\n",
                "try:\n",
                "    SA2DigitalBoundaries.to_sql(\"sa2\", conn, if_exists='append', index=False, dtype={'geom': Geometry('MULTIPOLYGON', 4326)})\n",
                "except Exception as e:\n",
                "    print(\"Error inserting data:\", e)\n",
                "print(SA2DigitalBoundaries.info())\n",
                "print()\n",
                "print(query(conn, \"select * from SA2 LIMIT 5\"))\n"
            ]
        },
        {
            "attachments": {},
            "cell_type": "markdown",
            "metadata": {},
            "source": [
                "### School"
            ]
        },
        {
            "cell_type": "code",
            "execution_count": 42,
            "metadata": {},
            "outputs": [
                {
                    "name": "stdout",
                    "output_type": "stream",
                    "text": [
                        "<class 'pandas.core.frame.DataFrame'>\n",
                        "Index: 2098 entries, 0 to 435\n",
                        "Data columns (total 4 columns):\n",
                        " #   Column      Non-Null Count  Dtype \n",
                        "---  ------      --------------  ----- \n",
                        " 0   USE_ID      2098 non-null   object\n",
                        " 1   CATCH_TYPE  2098 non-null   object\n",
                        " 2   USE_DESC    2098 non-null   object\n",
                        " 3   Geometry    2098 non-null   object\n",
                        "dtypes: object(4)\n",
                        "memory usage: 82.0+ KB\n",
                        "None\n",
                        "\n",
                        "   USE_ID CATCH_TYPE         USE_DESC  \\\n",
                        "0    2838    PRIMARY       Parklea PS   \n",
                        "1    2404    PRIMARY    Lindfield EPS   \n",
                        "2    4393    PRIMARY  Carlingford WPS   \n",
                        "3    4481    PRIMARY    St Andrews PS   \n",
                        "4    4615    PRIMARY   Caddies Ck  PS   \n",
                        "\n",
                        "                                            Geometry  \n",
                        "0  0106000020E61000000100000001030000000100000078...  \n",
                        "1  0106000020E610000001000000010300000001000000BE...  \n",
                        "2  0106000020E61000000100000001030000000100000065...  \n",
                        "3  0106000020E61000000100000001030000000100000040...  \n",
                        "4  0106000020E61000000100000001030000000100000056...  \n"
                    ]
                }
            ],
            "source": [
                "\n",
                "# Read primary catchments shapefile\n",
                "CatchmentPrimaryPath = os.path.join(currentDir, \"Data\", \"catchments\", \"catchments_primary.shp\")\n",
                "CatchmentPrimary = gpd.read_file(CatchmentPrimaryPath)\n",
                "\n",
                "# Convert geometry to WKT and drop original geometry column\n",
                "CatchmentPrimary['Geometry'] = CatchmentPrimary['geometry'].apply(lambda x: create_wkt_element(geom=x, srid=4326))\n",
                "CatchmentPrimary = CatchmentPrimary.drop(columns=\"geometry\")\n",
                "\n",
                "# Read secondary catchments shapefile\n",
                "CatchmentSecondaryPath = os.path.join(currentDir, \"Data\", \"catchments\", \"catchments_secondary.shp\")\n",
                "CatchmentSecondary = gpd.read_file(CatchmentSecondaryPath)\n",
                "\n",
                "# Convert geometry to WKT and drop original geometry column\n",
                "CatchmentSecondary['Geometry'] = CatchmentSecondary['geometry'].apply(lambda x: create_wkt_element(geom=x, srid=4326))\n",
                "CatchmentSecondary = CatchmentSecondary.drop(columns=\"geometry\")\n",
                "\n",
                "# Concatenate primary and secondary catchments\n",
                "school = pd.concat([CatchmentPrimary, CatchmentSecondary])\n",
                "\n",
                "# Drop duplicates and unnecessary columns\n",
                "school.drop_duplicates(inplace=True)\n",
                "school.drop(columns=['ADD_DATE', 'KINDERGART', 'YEAR1', 'YEAR2', 'YEAR3', 'YEAR4', 'YEAR5', 'YEAR6', 'YEAR7', 'YEAR8', 'YEAR9', 'YEAR10', 'YEAR11', 'YEAR12', 'PRIORITY'], inplace=True)\n",
                "school.dropna(inplace=True)\n",
                "\n",
                "# Define schema for School table\n",
                "schema = \"\"\"\n",
                "DROP TABLE IF EXISTS School;\n",
                "CREATE TABLE School (\n",
                "    \"USE_ID\" INTEGER,\n",
                "    \"CATCH_TYPE\" VARCHAR(255),\n",
                "    \"USE_DESC\" VARCHAR(255),\n",
                "    \"Geometry\" GEOMETRY(MULTIPOLYGON, 4326)\n",
                ");\n",
                "\"\"\"\n",
                "# Execute schema creation\n",
                "try:\n",
                "    conn.execute(text(schema))\n",
                "except Exception as e:\n",
                "    print(\"Error executing SQL statement:\", e)\n",
                "\n",
                "# Insert data into the School table\n",
                "try:\n",
                "    school.to_sql(\"school\", conn, if_exists='append', index=False, dtype={'Geometry': Geometry('MULTIPOLYGON', 4326)})\n",
                "except Exception as e:\n",
                "    print(\"Error inserting data:\", e)\n",
                "\n",
                "# Verify data insertion by querying the School table\n",
                "print(school.info())\n",
                "print()\n",
                "print(query(conn, \"select * from school LIMIT 5\"))\n"
            ]
        },
        {
            "attachments": {},
            "cell_type": "markdown",
            "metadata": {},
            "source": [
                "### Business"
            ]
        },
        {
            "cell_type": "code",
            "execution_count": 43,
            "metadata": {},
            "outputs": [
                {
                    "name": "stdout",
                    "output_type": "stream",
                    "text": [
                        "<class 'pandas.core.frame.DataFrame'>\n",
                        "RangeIndex: 12217 entries, 0 to 12216\n",
                        "Data columns (total 10 columns):\n",
                        " #   Column                  Non-Null Count  Dtype \n",
                        "---  ------                  --------------  ----- \n",
                        " 0   industry_name           12217 non-null  object\n",
                        " 1   sa2_code                12217 non-null  int64 \n",
                        " 2   sa2_name                12217 non-null  object\n",
                        " 3   0_to_50k_businesses     12217 non-null  int64 \n",
                        " 4   50k_to_200k_businesses  12217 non-null  int64 \n",
                        " 5   200k_to_2m_businesses   12217 non-null  int64 \n",
                        " 6   2m_to_5m_businesses     12217 non-null  int64 \n",
                        " 7   5m_to_10m_businesses    12217 non-null  int64 \n",
                        " 8   10m_or_more_businesses  12217 non-null  int64 \n",
                        " 9   total_businesses        12217 non-null  int64 \n",
                        "dtypes: int64(8), object(2)\n",
                        "memory usage: 954.6+ KB\n",
                        "None\n",
                        "\n",
                        "                       industry_name   sa2_code  \\\n",
                        "0  Agriculture, Forestry and Fishing  101021007   \n",
                        "1  Agriculture, Forestry and Fishing  101021008   \n",
                        "2  Agriculture, Forestry and Fishing  101021009   \n",
                        "3  Agriculture, Forestry and Fishing  101021010   \n",
                        "4  Agriculture, Forestry and Fishing  101021012   \n",
                        "\n",
                        "                          sa2_name  0_to_50k_businesses  \\\n",
                        "0                        Braidwood                  136   \n",
                        "1                          Karabar                    6   \n",
                        "2                       Queanbeyan                    6   \n",
                        "3                Queanbeyan - East                    0   \n",
                        "4  Queanbeyan West - Jerrabomberra                    7   \n",
                        "\n",
                        "   50k_to_200k_businesses  200k_to_2m_businesses  2m_to_5m_businesses  \\\n",
                        "0                      92                     63                    4   \n",
                        "1                       3                      0                    0   \n",
                        "2                       4                      3                    0   \n",
                        "3                       3                      0                    0   \n",
                        "4                       4                      5                    0   \n",
                        "\n",
                        "   5m_to_10m_businesses  10m_or_more_businesses  total_businesses  \n",
                        "0                     0                       0               296  \n",
                        "1                     0                       0                 9  \n",
                        "2                     0                       3                15  \n",
                        "3                     0                       0                 3  \n",
                        "4                     0                       0                16  \n"
                    ]
                }
            ],
            "source": [
                "# Path to the Businesses CSV file\n",
                "BusinessPath = os.path.join(currentDir, \"Data\", \"Businesses.csv\")\n",
                "# Read the CSV file\n",
                "Business = pd.read_csv(BusinessPath)\n",
                "# Drop unnecessary columns\n",
                "Business.drop(columns=['industry_code'], inplace=True)\n",
                "# Remove duplicates and rows with any null values\n",
                "Business.drop_duplicates(inplace=True)\n",
                "Business.dropna(inplace=True)\n",
                "# Define schema for Business table\n",
                "schema = \"\"\"\n",
                "DROP TABLE IF EXISTS Business;\n",
                "CREATE TABLE Business (\n",
                "    \"industry_name\" VARCHAR(255),\n",
                "    \"sa2_code\" INTEGER,\n",
                "    \"sa2_name\" VARCHAR(255),\n",
                "    \"0_to_50k_businesses\" INTEGER,\n",
                "    \"50k_to_200k_businesses\" INTEGER,\n",
                "    \"200k_to_2m_businesses\" INTEGER,\n",
                "    \"2m_to_5m_businesses\" INTEGER,\n",
                "    \"5m_to_10m_businesses\" INTEGER,\n",
                "    \"10m_or_more_businesses\" INTEGER,\n",
                "    \"total_businesses\" INTEGER\n",
                ");\n",
                "\"\"\"\n",
                "# Execute schema creation\n",
                "try:\n",
                "    conn.execute(text(schema))\n",
                "except Exception as e:\n",
                "    print(\"Error executing SQL statement:\", e)\n",
                "# Insert data into the Business table\n",
                "try:\n",
                "    Business.to_sql(\"business\", conn, if_exists='append', index=False)\n",
                "except Exception as e:\n",
                "    print(\"Error inserting data:\", e)\n",
                "# Verify data insertion by querying the Business table\n",
                "print(Business.info())\n",
                "print()\n",
                "print(query(conn, \"select * from business LIMIT 5\"))"
            ]
        },
        {
            "attachments": {},
            "cell_type": "markdown",
            "metadata": {},
            "source": [
                "### Income"
            ]
        },
        {
            "cell_type": "code",
            "execution_count": 44,
            "metadata": {},
            "outputs": [
                {
                    "name": "stdout",
                    "output_type": "stream",
                    "text": [
                        "<class 'pandas.core.frame.DataFrame'>\n",
                        "RangeIndex: 642 entries, 0 to 641\n",
                        "Data columns (total 6 columns):\n",
                        " #   Column         Non-Null Count  Dtype \n",
                        "---  ------         --------------  ----- \n",
                        " 0   sa2_code21     642 non-null    int64 \n",
                        " 1   sa2_name       642 non-null    object\n",
                        " 2   earners        642 non-null    int64 \n",
                        " 3   median_age     642 non-null    int64 \n",
                        " 4   median_income  642 non-null    int64 \n",
                        " 5   mean_income    642 non-null    int64 \n",
                        "dtypes: int64(5), object(1)\n",
                        "memory usage: 30.2+ KB\n",
                        "None\n",
                        "\n",
                        "   sa2_code21                         sa2_name  earners  median_age  \\\n",
                        "0   101021007                        Braidwood     2467          51   \n",
                        "1   101021008                          Karabar     5103          42   \n",
                        "2   101021009                       Queanbeyan     7028          39   \n",
                        "3   101021010                Queanbeyan - East     3398          39   \n",
                        "4   101021012  Queanbeyan West - Jerrabomberra     8422          44   \n",
                        "\n",
                        "   median_income  mean_income  \n",
                        "0          46640        68904  \n",
                        "1          65564        69672  \n",
                        "2          63528        69174  \n",
                        "3          66148        74162  \n",
                        "4          78630        91981  \n"
                    ]
                }
            ],
            "source": [
                "# Path to the Income CSV file\n",
                "IncomePath = os.path.join(currentDir, \"Data\", \"Income.csv\")\n",
                "# Read the CSV file\n",
                "Income = pd.read_csv(IncomePath)\n",
                "# Remove duplicates and rows with any null values\n",
                "Income.drop_duplicates(inplace=True)\n",
                "Income.dropna(inplace=True)\n",
                "# Replace 'np' with 0 and convert columns to integer type\n",
                "Income.replace('np', 0, inplace=True)\n",
                "Income['earners'] = Income['earners'].astype(int)\n",
                "Income['median_age'] = Income['median_age'].astype(int)\n",
                "Income['median_income'] = Income['median_income'].astype(int)\n",
                "Income['mean_income'] = Income['mean_income'].astype(int)\n",
                "# Define schema for Income table\n",
                "schema = \"\"\"\n",
                "DROP TABLE IF EXISTS Income;\n",
                "CREATE TABLE Income (\n",
                "    \"sa2_code21\" INTEGER,\n",
                "    \"sa2_name\" VARCHAR(255),\n",
                "    \"earners\" INTEGER,\n",
                "    \"median_age\" INTEGER,\n",
                "    \"median_income\" INTEGER,\n",
                "    \"mean_income\" INTEGER\n",
                ");\n",
                "\"\"\"\n",
                "# Execute schema creation\n",
                "try:\n",
                "    conn.execute(text(schema))\n",
                "except Exception as e:\n",
                "    print(\"Error executing SQL statement:\", e)\n",
                "# Insert data into the Income table\n",
                "try:\n",
                "    Income.to_sql(\"income\", conn, if_exists='append', index=False)\n",
                "except Exception as e:\n",
                "    print(\"Error inserting data:\", e)\n",
                "# Verify data insertion by querying the Income table\n",
                "print(Income.info())\n",
                "print()\n",
                "print(query(conn, \"select * from income LIMIT 5\"))"
            ]
        },
        {
            "attachments": {},
            "cell_type": "markdown",
            "metadata": {},
            "source": [
                "### Polling"
            ]
        },
        {
            "cell_type": "code",
            "execution_count": 45,
            "metadata": {},
            "outputs": [
                {
                    "name": "stdout",
                    "output_type": "stream",
                    "text": [
                        "<class 'pandas.core.frame.DataFrame'>\n",
                        "Index: 2790 entries, 13 to 2928\n",
                        "Data columns (total 3 columns):\n",
                        " #   Column              Non-Null Count  Dtype \n",
                        "---  ------              --------------  ----- \n",
                        " 0   division_name       2790 non-null   object\n",
                        " 1   polling_place_name  2790 non-null   object\n",
                        " 2   geom                2790 non-null   object\n",
                        "dtypes: object(3)\n",
                        "memory usage: 87.2+ KB\n",
                        "None\n",
                        "\n",
                        "  division_name           polling_place_name  \\\n",
                        "0         Banks                       Oatley   \n",
                        "1       Chifley                      Dharruk   \n",
                        "2         Banks                      Allawah   \n",
                        "3         Banks                Allawah South   \n",
                        "4         Banks  Beverly Hills North (Banks)   \n",
                        "\n",
                        "                                                geom  \n",
                        "0  0101000020E61000003BDF4F8D97E26240832F4CA60AFE...  \n",
                        "1  0101000020E6100000A01A2FDD24DA624048E17A14AEDF...  \n",
                        "2  0101000020E6100000A7EC4F3DADE36240EA48E47107FD...  \n",
                        "3  0101000020E6100000643BDF4F8DE3624022FDF675E0FC...  \n",
                        "4  0101000020E61000006666666666E26240C6DCB5847CF8...  \n"
                    ]
                }
            ],
            "source": [
                "# Path to the Polling Places CSV file\n",
                "PollingPlacesPath = os.path.join(currentDir, \"Data\", \"PollingPlaces2019.csv\")\n",
                "# Read the CSV file\n",
                "PollingPlace = pd.read_csv(PollingPlacesPath)\n",
                "# Remove duplicates\n",
                "PollingPlace.drop_duplicates(inplace=True)\n",
                "# Drop unnecessary columns\n",
                "PollingPlace = PollingPlace.drop(columns=['FID', 'state', 'division_id', 'polling_place_id', 'polling_place_type_id', 'premises_name', 'premises_address_1', 'premises_address_2', 'premises_address_3', 'premises_suburb', 'premises_state_abbreviation', 'premises_post_code', \"the_geom\"])\n",
                "# Drop rows with null longitude or latitude\n",
                "PollingPlace.dropna(subset=['longitude', 'latitude'], inplace=True)\n",
                "# Create geometry column from longitude and latitude\n",
                "PollingPlace['geometry'] = gpd.points_from_xy(PollingPlace.longitude, PollingPlace.latitude)\n",
                "PollingPlace['geom'] = PollingPlace['geometry'].apply(lambda x: WKTElement(x.wkt, srid=4326))\n",
                "PollingPlace.drop(columns=['longitude', 'latitude', 'geometry'], inplace=True)\n",
                "# Define schema for PollingPlace table\n",
                "schema = \"\"\"\n",
                "DROP TABLE IF EXISTS PollingPlace;\n",
                "CREATE TABLE PollingPlace (\n",
                "    \"division_name\" VARCHAR(255),\n",
                "    \"polling_place_name\" VARCHAR(255),\n",
                "    geom GEOMETRY(POINT, 4326)\n",
                ");\n",
                "\"\"\"\n",
                "# Execute schema creation\n",
                "try:\n",
                "    conn.execute(text(schema))\n",
                "except Exception as e:\n",
                "    print(\"Error executing SQL statement:\", e)\n",
                "# Insert data into the PollingPlace table\n",
                "try:\n",
                "    PollingPlace.to_sql(\"pollingplace\", conn, if_exists='append', index=False, dtype={'geom': Geometry('POINT', 4326)})\n",
                "except Exception as e:\n",
                "    print(\"Error inserting data:\", e)\n",
                "# Verify data insertion by querying the PollingPlace table\n",
                "print(PollingPlace.info())\n",
                "print()\n",
                "print(query(conn, \"select * from pollingplace LIMIT 5\"))"
            ]
        },
        {
            "attachments": {},
            "cell_type": "markdown",
            "metadata": {},
            "source": [
                "### Population\n"
            ]
        },
        {
            "cell_type": "code",
            "execution_count": 46,
            "metadata": {},
            "outputs": [
                {
                    "name": "stdout",
                    "output_type": "stream",
                    "text": [
                        "<class 'pandas.core.frame.DataFrame'>\n",
                        "Index: 372 entries, 0 to 372\n",
                        "Data columns (total 21 columns):\n",
                        " #   Column              Non-Null Count  Dtype \n",
                        "---  ------              --------------  ----- \n",
                        " 0   sa2_code            372 non-null    int64 \n",
                        " 1   sa2_name            372 non-null    object\n",
                        " 2   0-4_people          372 non-null    int64 \n",
                        " 3   5-9_people          372 non-null    int64 \n",
                        " 4   10-14_people        372 non-null    int64 \n",
                        " 5   15-19_people        372 non-null    int64 \n",
                        " 6   20-24_people        372 non-null    int64 \n",
                        " 7   25-29_people        372 non-null    int64 \n",
                        " 8   30-34_people        372 non-null    int64 \n",
                        " 9   35-39_people        372 non-null    int64 \n",
                        " 10  40-44_people        372 non-null    int64 \n",
                        " 11  45-49_people        372 non-null    int64 \n",
                        " 12  50-54_people        372 non-null    int64 \n",
                        " 13  55-59_people        372 non-null    int64 \n",
                        " 14  60-64_people        372 non-null    int64 \n",
                        " 15  65-69_people        372 non-null    int64 \n",
                        " 16  70-74_people        372 non-null    int64 \n",
                        " 17  75-79_people        372 non-null    int64 \n",
                        " 18  80-84_people        372 non-null    int64 \n",
                        " 19  85-and-over_people  372 non-null    int64 \n",
                        " 20  total_people        372 non-null    int64 \n",
                        "dtypes: int64(20), object(1)\n",
                        "memory usage: 63.9+ KB\n",
                        "None\n",
                        "\n",
                        "    sa2_code                     sa2_name  0-4_people  5-9_people  \\\n",
                        "0  102011028     Avoca Beach - Copacabana         424         522   \n",
                        "1  102011029  Box Head - MacMasters Beach         511         666   \n",
                        "2  102011030              Calga - Kulnura         200         225   \n",
                        "3  102011031          Erina - Green Point         683         804   \n",
                        "4  102011032        Gosford - Springfield        1164        1044   \n",
                        "\n",
                        "   10-14_people  15-19_people  20-24_people  25-29_people  30-34_people  \\\n",
                        "0           623           552           386           222           306   \n",
                        "1           702           592           461           347           420   \n",
                        "2           258           278           274           227           214   \n",
                        "3           880           838           661           502           587   \n",
                        "4          1084          1072          1499          1864          1750   \n",
                        "\n",
                        "   35-39_people  ...  45-49_people  50-54_people  55-59_people  60-64_people  \\\n",
                        "0           416  ...           572           602           570           520   \n",
                        "1           535  ...           749           749           794           895   \n",
                        "2           286  ...           325           436           422           397   \n",
                        "3           757  ...           859           882           901           930   \n",
                        "4          1520  ...          1330          1241          1377          1285   \n",
                        "\n",
                        "   65-69_people  70-74_people  75-79_people  80-84_people  85-and-over_people  \\\n",
                        "0           464           369           226           142                  70   \n",
                        "1           863           925           603           331                 264   \n",
                        "2           327           264           190           100                  75   \n",
                        "3           917          1065           976           773                1028   \n",
                        "4          1166           949           664           476                 537   \n",
                        "\n",
                        "   total_people  \n",
                        "0          7530  \n",
                        "1         11052  \n",
                        "2          4748  \n",
                        "3         14803  \n",
                        "4         21346  \n",
                        "\n",
                        "[5 rows x 21 columns]\n"
                    ]
                }
            ],
            "source": [
                "# Path to the Population CSV file\n",
                "PopulationPath = os.path.join(currentDir, \"Data\", \"Population.csv\")\n",
                "# Read the CSV file\n",
                "Population = pd.read_csv(PopulationPath)\n",
                "# Remove duplicates and rows with any null values\n",
                "Population.drop_duplicates(inplace=True)\n",
                "Population.dropna(inplace=True)\n",
                "# Filter out rows where total_people is 0\n",
                "Population = Population[Population['total_people'] != 0]\n",
                "# Define schema for Population table\n",
                "schema = \"\"\"\n",
                "DROP TABLE IF EXISTS Population;\n",
                "CREATE TABLE Population (\n",
                "    \"sa2_code\" INTEGER,\n",
                "    \"sa2_name\" VARCHAR(255),\n",
                "    \"0-4_people\" INTEGER,\n",
                "    \"5-9_people\" INTEGER,\n",
                "    \"10-14_people\" INTEGER,\n",
                "    \"15-19_people\" INTEGER,\n",
                "    \"20-24_people\" INTEGER,\n",
                "    \"25-29_people\" INTEGER,\n",
                "    \"30-34_people\" INTEGER,\n",
                "    \"35-39_people\" INTEGER,\n",
                "    \"40-44_people\" INTEGER,\n",
                "    \"45-49_people\" INTEGER,\n",
                "    \"50-54_people\" INTEGER,\n",
                "    \"55-59_people\" INTEGER,\n",
                "    \"60-64_people\" INTEGER,\n",
                "    \"65-69_people\" INTEGER,\n",
                "    \"70-74_people\" INTEGER,\n",
                "    \"75-79_people\" INTEGER,\n",
                "    \"80-84_people\" INTEGER,\n",
                "    \"85-and-over_people\" INTEGER,\n",
                "    \"total_people\" INTEGER\n",
                ");\n",
                "\"\"\"\n",
                "# Execute schema creation\n",
                "try:\n",
                "    conn.execute(text(schema))\n",
                "except Exception as e:\n",
                "    print(\"Error executing SQL statement:\", e)\n",
                "# Insert data into the Population table\n",
                "try:\n",
                "    Population.to_sql(\"population\", conn, if_exists='append', index=False)\n",
                "except Exception as e:\n",
                "    print(\"Error inserting data:\", e)\n",
                "# Verify data insertion by querying the Population table\n",
                "print(Population.info())\n",
                "print()\n",
                "print(query(conn, \"select * from population LIMIT 5\"))"
            ]
        },
        {
            "attachments": {},
            "cell_type": "markdown",
            "metadata": {},
            "source": [
                "### Stops\n"
            ]
        },
        {
            "cell_type": "code",
            "execution_count": 47,
            "metadata": {},
            "outputs": [
                {
                    "name": "stdout",
                    "output_type": "stream",
                    "text": [
                        "<class 'pandas.core.frame.DataFrame'>\n",
                        "RangeIndex: 114718 entries, 0 to 114717\n",
                        "Data columns (total 4 columns):\n",
                        " #   Column     Non-Null Count   Dtype \n",
                        "---  ------     --------------   ----- \n",
                        " 0   stop_id    114718 non-null  object\n",
                        " 1   stop_code  114718 non-null  int64 \n",
                        " 2   stop_name  114718 non-null  object\n",
                        " 3   geom       114718 non-null  object\n",
                        "dtypes: int64(1), object(3)\n",
                        "memory usage: 3.5+ MB\n",
                        "None\n",
                        "\n",
                        "  stop_id  stop_code                             stop_name  \\\n",
                        "0  200039     200039     Central Station, Eddy Av, Stand A   \n",
                        "1  200054     200054     Central Station, Eddy Av, Stand D   \n",
                        "2  200060          0                       Central Station   \n",
                        "3  201510          0                       Redfern Station   \n",
                        "4  201646     201646  Redfern Station, Gibbons St, Stand B   \n",
                        "\n",
                        "                                                geom  \n",
                        "0  0101000020E6100000FFA631FF9CE66240A1FF6524ECF0...  \n",
                        "1  0101000020E61000002F928BAC9FE66240E33DC7C1E6F0...  \n",
                        "2  0101000020E6100000817FA2F299E662408FF33DAC29F1...  \n",
                        "3  0101000020E61000009E57611C5DE6624060304CE622F2...  \n",
                        "4  0101000020E6100000DBF9333D5DE662403DFA6B9D58F2...  \n"
                    ]
                }
            ],
            "source": [
                "# Path to the Stops TXT file\n",
                "stopsPath = os.path.join(currentDir, \"Data\", \"Stops.txt\")\n",
                "# Read the TXT file\n",
                "Stops = pd.read_csv(stopsPath)\n",
                "# Convert platform_code, parent_station, location_type, and stop_code to numeric, handling errors\n",
                "Stops['platform_code'] = pd.to_numeric(Stops['platform_code'], errors='coerce').fillna(0).astype(int)\n",
                "Stops['parent_station'] = pd.to_numeric(Stops['parent_station'], errors='coerce').fillna(0).astype(int)\n",
                "Stops['location_type'] = pd.to_numeric(Stops['location_type'], errors='coerce').fillna(0).astype(int)\n",
                "Stops['stop_code'] = pd.to_numeric(Stops['stop_code'], errors='coerce').fillna(0).astype(int)\n",
                "# Create geometry column from longitude and latitude\n",
                "Stops['geometry'] = gpd.points_from_xy(Stops.stop_lon, Stops.stop_lat)\n",
                "Stops['geom'] = Stops['geometry'].apply(lambda x: WKTElement(x.wkt, srid=4326))\n",
                "Stops = Stops.drop(columns=['stop_lat', 'stop_lon', 'geometry', 'location_type', 'parent_station', 'wheelchair_boarding', 'platform_code'])\n",
                "# Remove duplicates and rows with any null values\n",
                "Stops.drop_duplicates(inplace=True)\n",
                "Stops.dropna(inplace=True)\n",
                "# Define schema for Stops table\n",
                "schema = \"\"\"\n",
                "DROP TABLE IF EXISTS Stops;\n",
                "CREATE TABLE Stops (\n",
                "    \"stop_id\" VARCHAR(255),\n",
                "    \"stop_code\" INTEGER,\n",
                "    \"stop_name\" VARCHAR(255),\n",
                "    \"geom\" GEOMETRY(POINT, 4326)\n",
                ");\n",
                "\"\"\"\n",
                "# Execute schema creation\n",
                "try:\n",
                "    conn.execute(text(schema))\n",
                "except Exception as e:\n",
                "    print(\"Error executing SQL statement:\", e)\n",
                "# Insert data into the Stops table\n",
                "try:\n",
                "    Stops.to_sql(\"stops\", conn, if_exists='append', index=False, dtype={'geom': Geometry('POINT', 4326)})\n",
                "except Exception as e:\n",
                "    print(\"Error inserting data:\", e)\n",
                "# Verify data insertion by querying the Stops table\n",
                "print(Stops.info())\n",
                "print()\n",
                "print(query(conn, \"select * from stops LIMIT 5\"))"
            ]
        },
        {
            "attachments": {},
            "cell_type": "markdown",
            "metadata": {},
            "source": [
                "## Creating Indexes"
            ]
        },
        {
            "cell_type": "code",
            "execution_count": 48,
            "metadata": {},
            "outputs": [
                {
                    "data": {
                        "text/html": [
                            "<div>\n",
                            "<style scoped>\n",
                            "    .dataframe tbody tr th:only-of-type {\n",
                            "        vertical-align: middle;\n",
                            "    }\n",
                            "\n",
                            "    .dataframe tbody tr th {\n",
                            "        vertical-align: top;\n",
                            "    }\n",
                            "\n",
                            "    .dataframe thead th {\n",
                            "        text-align: right;\n",
                            "    }\n",
                            "</style>\n",
                            "<table border=\"1\" class=\"dataframe\">\n",
                            "  <thead>\n",
                            "    <tr style=\"text-align: right;\">\n",
                            "      <th></th>\n",
                            "    </tr>\n",
                            "  </thead>\n",
                            "  <tbody>\n",
                            "  </tbody>\n",
                            "</table>\n",
                            "</div>"
                        ],
                        "text/plain": [
                            "Empty DataFrame\n",
                            "Columns: []\n",
                            "Index: []"
                        ]
                    },
                    "execution_count": 48,
                    "metadata": {},
                    "output_type": "execute_result"
                }
            ],
            "source": [
                "# Create spatial and regular indexes on relevant columns\n",
                "query(conn, \"\"\"CREATE INDEX IF NOT EXISTS indexSA2 ON SA2 USING GIST(\"geom\")\"\"\")\n",
                "query(conn, \"\"\"CREATE INDEX IF NOT EXISTS indexSA2Bussiness ON Business (\"sa2_code\")\"\"\")\n",
                "query(conn, \"\"\"CREATE INDEX IF NOT EXISTS indexSA2Income ON Income (\"sa2_code21\")\"\"\")\n",
                "query(conn, \"\"\"CREATE INDEX IF NOT EXISTS indexSA2Population ON Population (\"sa2_code\")\"\"\")\n",
                "query(conn, \"\"\"CREATE INDEX IF NOT EXISTS indexStops ON Stops USING GIST(\"geom\")\"\"\")\n",
                "query(conn, \"\"\"CREATE INDEX IF NOT EXISTS indexPolling ON PollingPlace USING GIST(\"geom\")\"\"\")\n"
            ]
        },
        {
            "attachments": {},
            "cell_type": "markdown",
            "metadata": {},
            "source": [
                "## Importing Additional Datasets"
            ]
        },
        {
            "attachments": {},
            "cell_type": "markdown",
            "metadata": {},
            "source": [
                "### Trees"
            ]
        },
        {
            "cell_type": "code",
            "execution_count": 49,
            "metadata": {},
            "outputs": [
                {
                    "name": "stdout",
                    "output_type": "stream",
                    "text": [
                        "Table created successfully.\n",
                        "Data inserted successfully.\n",
                        "<class 'pandas.core.frame.DataFrame'>\n",
                        "RangeIndex: 47164 entries, 0 to 47163\n",
                        "Data columns (total 2 columns):\n",
                        " #   Column    Non-Null Count  Dtype \n",
                        "---  ------    --------------  ----- \n",
                        " 0   ObjectId  47164 non-null  int64 \n",
                        " 1   Geometry  47164 non-null  object\n",
                        "dtypes: int64(1), object(1)\n",
                        "memory usage: 737.1+ KB\n",
                        "None\n",
                        "\n",
                        "   ObjectId                                           Geometry\n",
                        "0         1  0101000020E61000001C5C4135A3E562401137E3000DF1...\n",
                        "1         2  0101000020E610000043B00BF623E662401168FF2613F1...\n",
                        "2         3  0101000020E6100000F229357C26E662401171A9DC13F1...\n",
                        "3         4  0101000020E6100000C82ED6D127E66240EF7CB8B910F1...\n",
                        "4         5  0101000020E61000001D92A09F23E66240B382702710F1...\n"
                    ]
                }
            ],
            "source": [
                "# Path to the Trees CSV file\n",
                "treesPath = os.path.join(currentDir, \"Data\", \"trees.csv\")\n",
                "# Read the CSV file\n",
                "Trees = pd.read_csv(treesPath)\n",
                "# Drop unnecessary columns\n",
                "Trees.drop(columns=['OID_', 'asset_id', 'SpeciesName', 'CommonName', 'TreeHeight', 'TreeCanopyEW', 'TreeCanopyNS', 'Tree_Status', 'TreeType'], inplace=True)\n",
                "# Create geometry column from Longitude and Latitude\n",
                "Trees['geom'] = gpd.points_from_xy(Trees.Longitude, Trees.Latitude)\n",
                "Trees['Geometry'] = Trees['geom'].apply(lambda x: WKTElement(x.wkt, srid=4326))\n",
                "Trees = Trees.drop(columns=['Latitude', 'Longitude', 'geom'])\n",
                "# Remove duplicates and rows with any null values\n",
                "Trees.drop_duplicates(inplace=True)\n",
                "Trees.dropna(inplace=True)\n",
                "# Define schema for trees table\n",
                "schema = \"\"\"\n",
                "DROP TABLE IF EXISTS trees;\n",
                "CREATE TABLE trees (\n",
                "    \"ObjectId\" INTEGER,\n",
                "    \"Geometry\" GEOMETRY(POINT, 4326)\n",
                ");\n",
                "\"\"\"\n",
                "# Execute schema creation\n",
                "try:\n",
                "    conn.execute(text(schema))\n",
                "    print(\"Table created successfully.\")\n",
                "except Exception as e:\n",
                "    print(\"Error executing SQL statement:\", e)\n",
                "# Insert data into the trees table\n",
                "try:\n",
                "    Trees.to_sql(\"trees\", conn, if_exists='append', index=False, dtype={'Geometry': Geometry('POINT', 4326)})\n",
                "    print(\"Data inserted successfully.\")\n",
                "except Exception as e:\n",
                "    print(\"Error inserting data:\", e)\n",
                "# Verify data insertion by querying the trees table\n",
                "print(Trees.info())\n",
                "print()\n",
                "print(query(conn, \"select * from trees LIMIT 5\"))"
            ]
        },
        {
            "attachments": {},
            "cell_type": "markdown",
            "metadata": {},
            "source": [
                "### Mobility Parking"
            ]
        },
        {
            "cell_type": "code",
            "execution_count": 50,
            "metadata": {},
            "outputs": [
                {
                    "name": "stdout",
                    "output_type": "stream",
                    "text": [
                        "<class 'geopandas.geodataframe.GeoDataFrame'>\n",
                        "Index: 201 entries, 0 to 200\n",
                        "Data columns (total 5 columns):\n",
                        " #   Column               Non-Null Count  Dtype \n",
                        "---  ------               --------------  ----- \n",
                        " 0   OBJECTID             201 non-null    int64 \n",
                        " 1   SiteID               201 non-null    object\n",
                        " 2   Suburb               201 non-null    object\n",
                        " 3   NumberParkingSpaces  201 non-null    int64 \n",
                        " 4   Geometry             201 non-null    object\n",
                        "dtypes: int64(2), object(3)\n",
                        "memory usage: 9.4+ KB\n",
                        "None\n",
                        "\n",
                        "   OBJECTID  SiteID        Suburb  NumberParkingSpaces  \\\n",
                        "0         1     116   Dawes Point                    2   \n",
                        "1         2       6  Erskineville                    1   \n",
                        "2         3      46  Erskineville                    1   \n",
                        "3         4     318     Haymarket                    2   \n",
                        "4         5     305       Redfern                    1   \n",
                        "\n",
                        "                                            Geometry  \n",
                        "0  0101000020E6100000A8536BC9A5E66240D8EB3A16A3ED...  \n",
                        "1  0101000020E61000000C68016407E662402EB453148BF3...  \n",
                        "2  0101000020E610000067242640CBE562407926ACA0CAF3...  \n",
                        "3  0101000020E6100000C72A387C92E6624093CCD348F8F0...  \n",
                        "4  0101000020E61000002A43FA1091E662407A9FCA237CF2...  \n"
                    ]
                }
            ],
            "source": [
                "# Path to the Mobility Parking GeoJSON file\n",
                "parkingPath = os.path.join(currentDir, \"Data\", \"Mobility_parking.geojson\")\n",
                "# Read the GeoJSON file\n",
                "Parking = gpd.read_file(parkingPath)\n",
                "# Convert geometry to WKT and drop original geometry column\n",
                "Parking['Geometry'] = Parking['geometry'].apply(lambda x: create_wkt_element(geom=x, srid=4326))\n",
                "Parking.drop(columns=['geometry'], inplace=True)\n",
                "# Drop unnecessary columns\n",
                "Parking.drop(['Address', 'Street', 'Location', 'SideOfStreet', 'ParkingSpaceWidth', 'ParkingSpaceLength', 'ParkingSpaceAngle', 'SignText', 'URL', 'AuditDate'], axis=1, inplace=True)\n",
                "# Remove duplicates and rows with any null values\n",
                "Parking.drop_duplicates(inplace=True)\n",
                "Parking.dropna(inplace=True)\n",
                "# Define schema for parking table\n",
                "schema = \"\"\"\n",
                "DROP TABLE IF EXISTS parking;\n",
                "CREATE TABLE Parking (\n",
                "    \"OBJECTID\" INTEGER,\n",
                "    \"SiteID\" INTEGER,\n",
                "    \"Suburb\" VARCHAR(32),\n",
                "    \"NumberParkingSpaces\" INTEGER,\n",
                "    \"Geometry\" GEOMETRY(POINT, 4326)\n",
                ");\n",
                "\"\"\"\n",
                "# Execute schema creation\n",
                "try:\n",
                "    conn.execute(text(schema))\n",
                "except Exception as e:\n",
                "    print(\"Error executing SQL statement:\", e)\n",
                "# Insert data into the parking table\n",
                "try:\n",
                "    Parking.to_sql(\"parking\", conn, if_exists='append', index=False, dtype={'Geometry': Geometry('POINT', 4326)})\n",
                "except Exception as e:\n",
                "    print(\"Error inserting data:\", e)\n",
                "# Verify data insertion by querying the parking table\n",
                "print(Parking.info())\n",
                "print()\n",
                "print(query(conn, \"select * from parking LIMIT 5\"))"
            ]
        },
        {
            "attachments": {},
            "cell_type": "markdown",
            "metadata": {},
            "source": [
                "### Stairs"
            ]
        },
        {
            "cell_type": "code",
            "execution_count": 51,
            "metadata": {},
            "outputs": [
                {
                    "name": "stdout",
                    "output_type": "stream",
                    "text": [
                        "<class 'geopandas.geodataframe.GeoDataFrame'>\n",
                        "RangeIndex: 523 entries, 0 to 522\n",
                        "Data columns (total 6 columns):\n",
                        " #   Column     Non-Null Count  Dtype \n",
                        "---  ------     --------------  ----- \n",
                        " 0   OBJECTID   523 non-null    int64 \n",
                        " 1   Name       523 non-null    object\n",
                        " 2   Address    523 non-null    object\n",
                        " 3   Suburb     523 non-null    object\n",
                        " 4   HandRails  523 non-null    object\n",
                        " 5   Geometry   523 non-null    object\n",
                        "dtypes: int64(1), object(5)\n",
                        "memory usage: 24.6+ KB\n",
                        "None\n",
                        "\n",
                        "   OBJECTID                            Name  \\\n",
                        "0         1    Billyard Avenue Stairs East    \n",
                        "1         2  Barney and Bligh Reserve Steps   \n",
                        "2         3     Billyard Avenue Stairs West   \n",
                        "3         4      Lincoln Crescent Stairs 3a   \n",
                        "4         5   Fish Market Light Rail Stairs   \n",
                        "\n",
                        "                                             Address         Suburb HandRails  \\\n",
                        "0         between Macleay Street and Billyard Avenue  Elizabeth Bay       Yes   \n",
                        "1                                      Circular Quay      The Rocks       Yes   \n",
                        "2         between Macleay Street and Billyard Avenue  Elizabeth Bay       Yes   \n",
                        "3  corner of Cowper Wharf Roadway and Lincoln Cre...  Woolloomooloo       Yes   \n",
                        "4                          Miller Street Civic Space        Pyrmont       Yes   \n",
                        "\n",
                        "                                            Geometry  \n",
                        "0  0101000020E610000085BC6AF33FE7624073D7EB9C41EF...  \n",
                        "1  0101000020E610000027C13641B1E662408057C971ECED...  \n",
                        "2  0101000020E61000009E6D1B9B3DE76240B732B44B40EF...  \n",
                        "3  0101000020E61000001FEE850404E76240A9FF1C5C28EF...  \n",
                        "4  0101000020E6100000DBACCB6128E662404BFB6FC974EF...  \n"
                    ]
                }
            ],
            "source": [
                "# Path to the Stairs GeoJSON file\n",
                "stairsPath = os.path.join(currentDir, \"Data\", \"stairs.geojson\")\n",
                "# Read the GeoJSON file\n",
                "Stairs = gpd.read_file(stairsPath)\n",
                "# Drop unnecessary columns\n",
                "Stairs = Stairs.drop(columns=['ID', 'No_Steps', 'TGSI', 'StairNosingConstrastStrip', 'ClosestAlternateRoutes', 'Photo'])\n",
                "# Convert geometry to WKT and drop original geometry column\n",
                "Stairs['Geometry'] = Stairs['geometry'].apply(lambda x: create_wkt_element(geom=x, srid=4326))\n",
                "Stairs.drop(columns=['geometry'], inplace=True)\n",
                "# Remove duplicates and rows with any null values\n",
                "Stairs.drop_duplicates(inplace=True)\n",
                "Stairs.dropna(inplace=True)\n",
                "# Define schema for stairs table\n",
                "schema = \"\"\"\n",
                "DROP TABLE IF EXISTS stairs;\n",
                "CREATE TABLE stairs (\n",
                "    \"OBJECTID\" INTEGER,\n",
                "    \"Name\" VARCHAR(255),\n",
                "    \"Address\" VARCHAR(128),\n",
                "    \"Suburb\" VARCHAR(64),\n",
                "    \"HandRails\" VARCHAR(32),\n",
                "    \"Geometry\" GEOMETRY(POINT, 4326)\n",
                ");\n",
                "\"\"\"\n",
                "# Execute schema creation\n",
                "try:\n",
                "    conn.execute(text(schema))\n",
                "except Exception as e:\n",
                "    print(\"Error executing SQL Statement:\", e)\n",
                "# Insert data into the stairs table\n",
                "try:\n",
                "    Stairs.to_sql(\"stairs\", conn, if_exists='append', index=False, dtype={'Geometry': Geometry('POINT', 4326)})\n",
                "except Exception as e:\n",
                "    print(\"Error inserting data:\", e)\n",
                "# Verify data insertion by querying the stairs table\n",
                "print(Stairs.info())\n",
                "print()\n",
                "print(query(conn, \"select * from stairs LIMIT 5\"))"
            ]
        },
        {
            "attachments": {},
            "cell_type": "markdown",
            "metadata": {},
            "source": [
                "## Calculating Z-Scores"
            ]
        },
        {
            "attachments": {},
            "cell_type": "markdown",
            "metadata": {},
            "source": [
                "### Z-Scores for businesses in the 'Electricity, Gas, Water and Waste Services' industry"
            ]
        },
        {
            "cell_type": "code",
            "execution_count": 52,
            "metadata": {},
            "outputs": [
                {
                    "name": "stdout",
                    "output_type": "stream",
                    "text": [
                        "      sa2_code                       sa2_name  zbusiness\n",
                        "0    116031318             Prospect Reservoir  11.210392\n",
                        "1    125011475              Rookwood Cemetery  10.757357\n",
                        "2    125031486          Smithfield Industrial   9.642194\n",
                        "3    127021521      Wetherill Park Industrial   4.066380\n",
                        "4    125031487             Yennora Industrial   4.066380\n",
                        "..         ...                            ...        ...\n",
                        "367  127021517  Greenfield Park - Prairiewood  -0.115481\n",
                        "368  127021520        St Johns Park - Wakeley  -0.115481\n",
                        "369  127031524      Holsworthy - Wattle Grove  -0.115481\n",
                        "370  128021537            Royal National Park  -0.115481\n",
                        "371  128021608           Loftus - Yarrawarrah  -0.115481\n",
                        "\n",
                        "[372 rows x 3 columns]\n"
                    ]
                }
            ],
            "source": [
                "# Calculate z-scores for businesses in the 'Electricity, Gas, Water and Waste Services' industry\n",
                "zbussiness = \"\"\"\n",
                "DROP TABLE IF EXISTS bussTable;\n",
                "CREATE TABLE bussTable AS\n",
                "SELECT p.sa2_code, p.sa2_name,  \n",
                "(CAST(b.total_businesses AS FLOAT) / p.total_people * 1000 - AVG(CAST(b.total_businesses AS FLOAT) / p.total_people * 1000) OVER ()) / STDDEV_POP(CAST(b.total_businesses AS FLOAT) / p.total_people * 1000) OVER () AS zbusiness\n",
                "FROM Business b JOIN Population p \n",
                "ON p.sa2_code = b.sa2_code \n",
                "WHERE industry_name = 'Electricity, Gas, Water and Waste Services'\n",
                "\"\"\"\n",
                "query(conn, zbussiness)\n",
                "print(pd.read_sql_query(\"SELECT * from bussTable ORDER BY zbusiness DESC;\", conn))"
            ]
        },
        {
            "attachments": {},
            "cell_type": "markdown",
            "metadata": {},
            "source": [
                "### Z-Scores for stops in each SA2 area"
            ]
        },
        {
            "cell_type": "code",
            "execution_count": 53,
            "metadata": {},
            "outputs": [
                {
                    "name": "stdout",
                    "output_type": "stream",
                    "text": [
                        "     sa2_code21                          sa2_name21    zstops\n",
                        "0     115021297  Dural - Kenthurst - Wisemans Ferry  6.346289\n",
                        "1     124011454               Springwood - Winmalee  3.307956\n",
                        "2     124011452                    Katoomba - Leura  2.844089\n",
                        "3     102011040        Umina - Booker Bay - Patonga  2.751315\n",
                        "4     123021437             Campbelltown - Woodbine  2.612155\n",
                        "..          ...                                 ...       ...\n",
                        "367   117031639                         Chippendale -1.597444\n",
                        "368   119041671                         Wolli Creek -1.597444\n",
                        "369   127011592                      Badgerys Creek -1.620638\n",
                        "370   124011451              Blue Mountains - North -1.690218\n",
                        "371   124021456              Blue Mountains - South -1.713411\n",
                        "\n",
                        "[372 rows x 3 columns]\n"
                    ]
                }
            ],
            "source": [
                "# Calculate z-scores for stops in each SA2 area\n",
                "zStops = \"\"\"\n",
                "DROP TABLE IF EXISTS stopsTable;\n",
                "CREATE TABLE stopsTable AS \n",
                "SELECT s.SA2_CODE21, s.SA2_NAME21, \n",
                "    (COUNT(st.stop_id) - AVG(COUNT(st.stop_id)) OVER ()) / STDDEV_POP(COUNT(st.stop_id)) OVER () AS zstops\n",
                "FROM SA2 s \n",
                "JOIN (\n",
                "    SELECT stop_id, geom\n",
                "    FROM Stops\n",
                ") st ON ST_Contains(s.geom, st.geom)\n",
                "GROUP BY s.SA2_CODE21, s.SA2_NAME21;\n",
                "\"\"\"\n",
                "query(conn, zStops)\n",
                "print(pd.read_sql_query(\"SELECT * from stopsTable ORDER BY zstops DESC;\", conn))"
            ]
        },
        {
            "attachments": {},
            "cell_type": "markdown",
            "metadata": {},
            "source": [
                "### Z-Scores for polling places in each SA2 area"
            ]
        },
        {
            "cell_type": "code",
            "execution_count": 54,
            "metadata": {},
            "outputs": [
                {
                    "name": "stdout",
                    "output_type": "stream",
                    "text": [
                        "     sa2_code21                      sa2_name21      zpoll\n",
                        "0     117031644  Sydney (North) - Millers Point  14.497232\n",
                        "1     117031645      Sydney (South) - Haymarket   5.512305\n",
                        "2     125041717              Parramatta - North   3.326783\n",
                        "3     121011684                Chatswood - East   2.841111\n",
                        "4     124031464                         Penrith   2.112603\n",
                        "..          ...                             ...        ...\n",
                        "348   102011036          Niagara Park - Lisarow  -0.801427\n",
                        "349   118011344                   Dover Heights  -0.801427\n",
                        "350   102021051         Ourimbah - Fountaindale  -0.801427\n",
                        "351   123011702                     Spring Farm  -0.801427\n",
                        "352   120031576               Strathfield South  -0.801427\n",
                        "\n",
                        "[353 rows x 3 columns]\n"
                    ]
                }
            ],
            "source": [
                "# Calculate z-scores for polling places in each SA2 area\n",
                "zPoll = \"\"\"\n",
                "DROP TABLE IF EXISTS pollTable;\n",
                "CREATE TABLE pollTable AS\n",
                "SELECT s.SA2_CODE21, s.SA2_NAME21, (COUNT(p.division_name) - AVG(COUNT(p.division_name)) OVER ()) / STDDEV_POP(COUNT(p.division_name)) OVER () AS zpoll\n",
                "FROM SA2 s JOIN PollingPlace p ON ST_Contains(s.geom, p.geom)\n",
                "GROUP BY s.SA2_CODE21, s.SA2_NAME21;\n",
                "\"\"\"\n",
                "query(conn, zPoll)\n",
                "print(pd.read_sql_query(\"SELECT * from pollTable ORDER BY zpoll DESC;\", conn))"
            ]
        },
        {
            "attachments": {},
            "cell_type": "markdown",
            "metadata": {},
            "source": [
                "### Z-Scores for schools in each SA2 area based on population under 19"
            ]
        },
        {
            "cell_type": "code",
            "execution_count": 55,
            "metadata": {},
            "outputs": [
                {
                    "name": "stdout",
                    "output_type": "stream",
                    "text": [
                        "     sa2_code21                            sa2_name21          avg    zschool\n",
                        "0     127011592                        Badgerys Creek  8000.000000  10.387646\n",
                        "1     125011475                     Rookwood Cemetery  8000.000000  10.387646\n",
                        "2     117011324                Port Botany Industrial  6000.000000   7.756735\n",
                        "3     125031486                 Smithfield Industrial  4500.000000   5.783553\n",
                        "4     125031487                    Yennora Industrial  4000.000000   5.125825\n",
                        "..          ...                                   ...          ...        ...\n",
                        "363   127011729                             Oran Park     1.270850  -0.134324\n",
                        "364   121041689                        Mosman - South     1.157742  -0.134473\n",
                        "365   122021691  North Narrabeen - Warriewood (South)     0.956633  -0.134738\n",
                        "366   122021420                   Avalon - Palm Beach     0.955110  -0.134740\n",
                        "367   102011040          Umina - Booker Bay - Patonga     0.946970  -0.134750\n",
                        "\n",
                        "[368 rows x 4 columns]\n"
                    ]
                }
            ],
            "source": [
                "# Calculate z-scores for schools in each SA2 area based on population under 19\n",
                "zSchool = \"\"\"\n",
                "DROP TABLE IF EXISTS helper;\n",
                "CREATE TABLE helper AS\n",
                "SELECT s.SA2_CODE21, s.SA2_NAME21, SUM(p.\"0-4_people\" + p.\"5-9_people\" + p.\"10-14_people\" + p.\"15-19_people\") AS under_19\n",
                "FROM SA2 s\n",
                "JOIN POPULATION p ON s.SA2_CODE21 = p.sa2_code\n",
                "GROUP BY s.SA2_CODE21, s.SA2_NAME21;\n",
                "\n",
                "DROP TABLE IF EXISTS schoolTable;\n",
                "CREATE TABLE schoolTable AS\n",
                "WITH schoolTable AS (\n",
                "    SELECT s.SA2_CODE21, s.SA2_NAME21, CAST(COUNT(*) AS FLOAT) * 1000 / h.under_19 AS avg\n",
                "    FROM SA2 s\n",
                "    JOIN School sc ON ST_INTERSECTS(sc.\"Geometry\", s.geom)\n",
                "    JOIN helper h ON h.SA2_CODE21 = s.SA2_CODE21\n",
                "    WHERE h.under_19 > 0\n",
                "    GROUP BY s.SA2_CODE21, s.SA2_NAME21, h.under_19\n",
                "),\n",
                "stats AS (\n",
                "    SELECT AVG(avg) AS mean_avg, STDDEV(avg) AS stddev_avg\n",
                "    FROM schoolTable\n",
                ")\n",
                "SELECT \n",
                "    sd.SA2_CODE21, sd.SA2_NAME21, sd.avg, (sd.avg - st.mean_avg) / st.stddev_avg AS zschool\n",
                "FROM schoolTable sd, stats st;\n",
                "\"\"\"\n",
                "query(conn, zSchool)\n",
                "print(pd.read_sql_query(\"SELECT * from schoolTable ORDER BY zschool DESC;\", conn))"
            ]
        },
        {
            "attachments": {},
            "cell_type": "markdown",
            "metadata": {},
            "source": [
                "### Z-Scores for trees in each SA2 area"
            ]
        },
        {
            "cell_type": "code",
            "execution_count": 56,
            "metadata": {},
            "outputs": [
                {
                    "name": "stdout",
                    "output_type": "stream",
                    "text": [
                        "    sa2_code21                      sa2_name21    ztrees\n",
                        "0    117031330       Erskineville - Alexandria  3.077971\n",
                        "1    117031331            Glebe - Forest Lodge  1.831538\n",
                        "2    117031643         Rosebery - Beaconsfield  0.744564\n",
                        "3    117031336                     Surry Hills  0.514413\n",
                        "4    117031642                         Redfern  0.396945\n",
                        "5    117031333     Potts Point - Woolloomooloo  0.352297\n",
                        "6    117031644  Sydney (North) - Millers Point  0.287982\n",
                        "7    117031648                         Zetland  0.029659\n",
                        "8    117031647                        Waterloo -0.006485\n",
                        "9    117031329                    Darlinghurst -0.159565\n",
                        "10   117031641                         Pyrmont -0.233979\n",
                        "11   118011345         Paddington - Moore Park -0.349320\n",
                        "12   117031640                   Newtown (NSW) -0.491769\n",
                        "13   117031638         Camperdown - Darlington -0.531103\n",
                        "14   117031646                          Ultimo -0.628372\n",
                        "15   117031639                     Chippendale -0.719795\n",
                        "16   117031645      Sydney (South) - Haymarket -0.794209\n",
                        "17   120021674                 Annandale (NSW) -0.941442\n",
                        "18   118011342                 Centennial Park -1.178503\n",
                        "19   117021328    Sydenham - Tempe - St Peters -1.200828\n"
                    ]
                }
            ],
            "source": [
                "# Calculate z-scores for trees in each SA2 area\n",
                "zTrees = \"\"\"\n",
                "DROP TABLE IF EXISTS treeTable;\n",
                "CREATE TABLE treeTable AS\n",
                "SELECT s.SA2_CODE21, s.SA2_NAME21, (COUNT(t.\"ObjectId\") - AVG(COUNT(t.\"ObjectId\")) OVER ()) / STDDEV_POP(COUNT(t.\"ObjectId\")) OVER () AS ztrees\n",
                "FROM SA2 s JOIN trees t ON ST_Contains(s.geom, t.\"Geometry\")\n",
                "GROUP BY s.SA2_CODE21, s.SA2_NAME21;\n",
                "\"\"\"\n",
                "query(conn, zTrees)\n",
                "print(pd.read_sql_query(\"SELECT * from treeTable ORDER BY ztrees DESC;\", conn))"
            ]
        },
        {
            "attachments": {},
            "cell_type": "markdown",
            "metadata": {},
            "source": [
                "### Z-Scores for parking spaces in each SA2 area"
            ]
        },
        {
            "cell_type": "code",
            "execution_count": 57,
            "metadata": {},
            "outputs": [
                {
                    "name": "stdout",
                    "output_type": "stream",
                    "text": [
                        "    sa2_code21                      sa2_name21     zpark\n",
                        "0    117031331            Glebe - Forest Lodge  3.420189\n",
                        "1    117031644  Sydney (North) - Millers Point  1.570645\n",
                        "2    117031330       Erskineville - Alexandria  0.337615\n",
                        "3    117031642                         Redfern  0.161468\n",
                        "4    117031640                   Newtown (NSW)  0.161468\n",
                        "5    117031638         Camperdown - Darlington  0.073395\n",
                        "6    117031336                     Surry Hills -0.014679\n",
                        "7    117031333     Potts Point - Woolloomooloo -0.102752\n",
                        "8    117031329                    Darlinghurst -0.190826\n",
                        "9    117031645      Sydney (South) - Haymarket -0.278900\n",
                        "10   117031641                         Pyrmont -0.455047\n",
                        "11   117031646                          Ultimo -0.455047\n",
                        "12   118011345         Paddington - Moore Park -0.455047\n",
                        "13   117031647                        Waterloo -0.543120\n",
                        "14   120021674                 Annandale (NSW) -0.719267\n",
                        "15   117031648                         Zetland -0.807341\n",
                        "16   117031639                     Chippendale -0.807341\n",
                        "17   117031643         Rosebery - Beaconsfield -0.895414\n"
                    ]
                }
            ],
            "source": [
                "# Calculate z-scores for parking spaces in each SA2 area\n",
                "zParking = \"\"\"\n",
                "DROP TABLE IF EXISTS parkTable;\n",
                "CREATE TABLE parkTable AS\n",
                "SELECT s.SA2_CODE21, s.SA2_NAME21, (COUNT(p.\"OBJECTID\") - AVG(COUNT(p.\"OBJECTID\")) OVER ()) / STDDEV_POP(COUNT(p.\"OBJECTID\")) OVER () AS zpark\n",
                "FROM SA2 s JOIN parking p ON ST_Contains(s.geom, p.\"Geometry\")\n",
                "GROUP BY s.SA2_CODE21, s.SA2_NAME21;\n",
                "\"\"\"\n",
                "query(conn, zParking)\n",
                "print(pd.read_sql_query(\"SELECT * from parkTable ORDER BY zpark DESC;\", conn))"
            ]
        },
        {
            "attachments": {},
            "cell_type": "markdown",
            "metadata": {},
            "source": [
                "### Z-Scores for stairs in each SA2 area"
            ]
        },
        {
            "cell_type": "code",
            "execution_count": 58,
            "metadata": {},
            "outputs": [
                {
                    "name": "stdout",
                    "output_type": "stream",
                    "text": [
                        "    sa2_code21                      sa2_name21   zstairs\n",
                        "0    117031644  Sydney (North) - Millers Point  3.834959\n",
                        "1    117031331            Glebe - Forest Lodge  0.376570\n",
                        "2    117031641                         Pyrmont  0.321383\n",
                        "3    117031645      Sydney (South) - Haymarket  0.155822\n",
                        "4    117031333     Potts Point - Woolloomooloo  0.027052\n",
                        "5    117031329                    Darlinghurst -0.138509\n",
                        "6    117031640                   Newtown (NSW) -0.175300\n",
                        "7    117031638         Camperdown - Darlington -0.340861\n",
                        "8    117031336                     Surry Hills -0.377653\n",
                        "9    117031330       Erskineville - Alexandria -0.377653\n",
                        "10   117031647                        Waterloo -0.396048\n",
                        "11   117031648                         Zetland -0.451235\n",
                        "12   117031639                     Chippendale -0.469631\n",
                        "13   117031646                          Ultimo -0.469631\n",
                        "14   118011345         Paddington - Moore Park -0.488027\n",
                        "15   117031642                         Redfern -0.506422\n",
                        "16   120021674                 Annandale (NSW) -0.524818\n"
                    ]
                }
            ],
            "source": [
                "# Calculate z-scores for stairs in each SA2 area\n",
                "zStairs = \"\"\"\n",
                "DROP TABLE IF EXISTS stairsTable;\n",
                "CREATE TABLE stairsTable AS\n",
                "SELECT s.SA2_CODE21, s.SA2_NAME21, (COUNT(st.\"OBJECTID\") - AVG(COUNT(st.\"OBJECTID\")) OVER ()) / STDDEV_POP(COUNT(st.\"OBJECTID\")) OVER () AS zstairs\n",
                "FROM SA2 s JOIN stairs st ON ST_Contains(s.geom, st.\"Geometry\")\n",
                "GROUP BY s.SA2_CODE21, s.SA2_NAME21;\n",
                "\"\"\"\n",
                "query(conn, zStairs)\n",
                "print(pd.read_sql_query(\"SELECT * from stairsTable ORDER BY zstairs DESC;\", conn))"
            ]
        },
        {
            "attachments": {},
            "cell_type": "markdown",
            "metadata": {},
            "source": [
                "### Combined Z-Score table for selected variables (business, stops, poll, school)"
            ]
        },
        {
            "cell_type": "code",
            "execution_count": 59,
            "metadata": {},
            "outputs": [
                {
                    "name": "stdout",
                    "output_type": "stream",
                    "text": [
                        "     sa2_code21                               sa2_name21      score  \\\n",
                        "0     117031644           Sydney (North) - Millers Point  15.072330   \n",
                        "1     127021521                Wetherill Park Industrial   7.388049   \n",
                        "2     115021297       Dural - Kenthurst - Wisemans Ferry   7.257351   \n",
                        "3     117031645               Sydney (South) - Haymarket   4.443657   \n",
                        "4     123021437                  Campbelltown - Woodbine   3.994817   \n",
                        "..          ...                                      ...        ...   \n",
                        "348   116021562                           Acacia Gardens  -2.331044   \n",
                        "349   128011605  Lilli Pilli - Port Hacking - Dolans Bay  -2.351840   \n",
                        "350   117031648                                  Zetland  -2.418871   \n",
                        "351   117031646                                   Ultimo  -2.492279   \n",
                        "352   117031639                              Chippendale  -2.618152   \n",
                        "\n",
                        "     bustling_score  \n",
                        "0          1.000000  \n",
                        "1          0.999382  \n",
                        "2          0.999296  \n",
                        "3          0.988384  \n",
                        "4          0.981922  \n",
                        "..              ...  \n",
                        "348        0.088584  \n",
                        "349        0.086920  \n",
                        "350        0.081745  \n",
                        "351        0.076401  \n",
                        "352        0.067979  \n",
                        "\n",
                        "[353 rows x 4 columns]\n",
                        "\n"
                    ]
                }
            ],
            "source": [
                "# Create a combined z-score table for selected variables (business, stops, poll, school)\n",
                "sigmodi = \"\"\"\n",
                "DROP TABLE IF EXISTS zscore;\n",
                "CREATE TABLE zscore AS\n",
                "SELECT s.SA2_CODE21, s.SA2_NAME21, \n",
                "    (zb.zbusiness + zs.zstops + zp.zpoll + zsc.zschool) AS score\n",
                "FROM SA2 s\n",
                "JOIN bussTable zb ON s.SA2_CODE21 = zb.sa2_code\n",
                "JOIN stopsTable zs ON s.SA2_CODE21 = zs.sa2_code21\n",
                "JOIN pollTable zp ON s.SA2_CODE21 = zp.sa2_code21\n",
                "JOIN schoolTable zsc ON s.SA2_CODE21 = zsc.sa2_code21;\n",
                "\"\"\"\n",
                "query(conn, sigmodi)\n",
                "\n",
                "# Query the combined z-score table and calculate sigmoid bustling_score\n",
                "df = pd.read_sql_query(\"SELECT * from zscore ORDER BY score DESC;\", conn)\n",
                "df['bustling_score'] = 1 / (1 + np.exp(-df['score']))\n",
                "print(f\"{df}\\n\")"
            ]
        },
        {
            "attachments": {},
            "cell_type": "markdown",
            "metadata": {},
            "source": [
                "## Score Calculation"
            ]
        },
        {
            "cell_type": "code",
            "execution_count": 60,
            "metadata": {},
            "outputs": [
                {
                    "name": "stdout",
                    "output_type": "stream",
                    "text": [
                        "    sa2_code21                      sa2_name21      score  bustling_score\n",
                        "0    117031644  Sydney (North) - Millers Point  20.765915        1.000000\n",
                        "1    117031331            Glebe - Forest Lodge   6.061087        0.997674\n",
                        "2    117031645      Sydney (South) - Haymarket   3.526371        0.971429\n",
                        "3    117031330       Erskineville - Alexandria   2.648426        0.933914\n",
                        "4    117031333     Potts Point - Woolloomooloo  -0.287168        0.428697\n",
                        "5    117031336                     Surry Hills  -0.735438        0.324003\n",
                        "6    117031640                   Newtown (NSW)  -1.049309        0.259358\n",
                        "7    117031329                    Darlinghurst  -1.133973        0.243429\n",
                        "8    117031642                         Redfern  -1.435793        0.192198\n",
                        "9    118011345         Paddington - Moore Park  -1.929295        0.126829\n",
                        "10   117031638         Camperdown - Darlington  -2.571828        0.070974\n",
                        "11   117031641                         Pyrmont  -2.636013        0.066856\n",
                        "12   117031647                        Waterloo  -2.775111        0.058684\n",
                        "13   117031648                         Zetland  -3.647788        0.025387\n",
                        "14   120021674                 Annandale (NSW)  -3.771542        0.022499\n",
                        "15   117031646                          Ultimo  -4.045329        0.017203\n",
                        "16   117031639                     Chippendale  -4.614919        0.009806\n"
                    ]
                }
            ],
            "source": [
                "sigmodi = \"\"\"\n",
                "DROP TABLE IF EXISTS zscore;\n",
                "CREATE TABLE zscore AS\n",
                "SELECT s.SA2_CODE21, s.SA2_NAME21, \n",
                "    (zb.zbusiness + zs.zstops + zp.zpoll + zt.ztrees + zpk.zpark + zst.zstairs + zsc.zschool) AS score\n",
                "FROM SA2 s\n",
                "JOIN bussTable zb ON s.SA2_CODE21 = zb.sa2_code\n",
                "JOIN stopsTable zs ON s.SA2_CODE21 = zs.sa2_code21\n",
                "JOIN pollTable zp ON s.SA2_CODE21 = zp.sa2_code21\n",
                "JOIN treeTable zt ON s.SA2_CODE21 = zt.sa2_code21\n",
                "JOIN parkTable zpk ON s.SA2_CODE21 = zpk.sa2_code21\n",
                "JOIN stairsTable zst ON s.SA2_CODE21 = zst.sa2_code21\n",
                "JOIN schoolTable zsc ON s.SA2_CODE21 = zsc.sa2_code21;\n",
                "\"\"\"\n",
                "query(conn, sigmodi)\n",
                "\n",
                "# Query the combined z-score table and calculate sigmoid bustling_score\n",
                "df = pd.read_sql_query(\"SELECT * from zscore ORDER BY score DESC;\", conn)\n",
                "df['bustling_score'] = 1 / (1 + np.exp(-df['score']))\n",
                "print(df)"
            ]
        },
        {
            "cell_type": "code",
            "execution_count": 64,
            "metadata": {},
            "outputs": [],
            "source": [
                "# Add a new column for median income to the zscore table if it doesn't exist\n",
                "query(conn, \"\"\"\n",
                "ALTER TABLE zscore ADD IF NOT EXISTS median_income FLOAT;\n",
                "UPDATE zscore\n",
                "SET median_income = Income.median_income\n",
                "FROM Income\n",
                "WHERE zscore.SA2_code21 = INCOME.SA2_code21;\n",
                "\"\"\")\n",
                "\n",
                "# Query the updated zscore table\n",
                "df = pd.read_sql_query(\"\"\" SELECT * from zscore;\"\"\", conn)"
            ]
        },
        {
            "attachments": {},
            "cell_type": "markdown",
            "metadata": {},
            "source": [
                "## Plot of Score vs Median Income"
            ]
        },
        {
            "cell_type": "code",
            "execution_count": 62,
            "metadata": {},
            "outputs": [
                {
                    "data": {
                        "image/png": "[encoded data removed]",
                        "text/plain": [
                            "<Figure size 1000x600 with 1 Axes>"
                        ]
                    },
                    "metadata": {},
                    "output_type": "display_data"
                }
            ],
            "source": [
                "# Create a scatter plot of score vs median income\n",
                "plt.figure(figsize=(10, 6))\n",
                "plt.scatter(df['score'], df['median_income'], alpha=0.5)\n",
                "plt.title('Scatter Plot of Score vs Median Income')\n",
                "plt.xlabel('Score')\n",
                "plt.ylabel('Median Income')\n",
                "plt.grid(True)\n",
                "plt.show()"
            ]
        },
        {
            "cell_type": "code",
            "execution_count": 63,
            "metadata": {},
            "outputs": [
                {
                    "data": {
                        "image/png": "[encoded data removed]",
                        "text/plain": [
                            "<Figure size 640x480 with 2 Axes>"
                        ]
                    },
                    "metadata": {},
                    "output_type": "display_data"
                }
            ],
            "source": [
                "map_overlay = gpd.read_postgis(\"SELECT geom, score FROM SA2 s JOIN zscore r ON (s.sa2_code21 = r.sa2_code21)\", conn, geom_col='geom')\n",
                "\n",
                "# Plot the map overlay with scores\n",
                "plt.rcParams\n",
                "map_overlay.plot(column='score', cmap='GnBu', legend=True)\n",
                "plt.title('Resource Score Map Overlay')\n",
                "plt.xlabel('Longitude')\n",
                "plt.ylabel('Latitude')\n",
                "plt.show()"
            ]
        }
    ],
    "metadata": {
        "kernelspec": {
            "display_name": "base",
            "language": "python",
            "name": "python3"
        },
        "language_info": {
            "codemirror_mode": {
                "name": "ipython",
                "version": 3
            },
            "file_extension": ".py",
            "mimetype": "text/x-python",
            "name": "python",
            "nbconvert_exporter": "python",
            "pygments_lexer": "ipython3",
            "version": "3.11.5"
        }
    },
    "nbformat": 4,
    "nbformat_minor": 2
}
